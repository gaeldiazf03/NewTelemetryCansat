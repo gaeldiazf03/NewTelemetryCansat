{
 "cells": [
  {
   "cell_type": "code",
   "execution_count": 14,
   "metadata": {},
   "outputs": [],
   "source": [
    "import pandas as pd\n",
    "import numpy as np"
   ]
  },
  {
   "cell_type": "code",
   "execution_count": 15,
   "metadata": {},
   "outputs": [],
   "source": [
    "def get_data(size=10_000):\n",
    "    df  = pd.DataFrame()\n",
    "    df['age'] = np.random.randint(0, 100, size)\n",
    "    df['time_bed'] = np.random.randint(0, 12, size)\n",
    "    df['sleeping'] = np.random.rand(size)\n",
    "    df['favorite_food'] = np.random.choice(['pizza', 'pasta', 'salad', 'soup'], size)\n",
    "    df['favorite_color'] = np.random.choice(['red', 'blue', 'green', 'yellow'], size)\n",
    "    df['hate_food'] = np.random.choice(['pizza', 'pasta', 'salad', 'soup'], size)\n",
    "    return df"
   ]
  },
  {
   "cell_type": "markdown",
   "metadata": {},
   "source": [
    "## Problem 1\n",
    "Reward calculation:\n",
    "- Si es que han estado duermiuendo por mas de 5 horas y durmiendo más del 50% les daremos su comida favorita\n",
    "- Si no, le daremos la comida que odian\n",
    "- Si tienen más de 90 años entonces les daremos su comida favorita\n",
    "- Si son menores de 18 años les daremos comida de su color favorita"
   ]
  },
  {
   "cell_type": "code",
   "execution_count": 16,
   "metadata": {},
   "outputs": [],
   "source": [
    "def reward_calculation(row):\n",
    "    if row['age'] >= 90:\n",
    "        return row['favorite_food']\n",
    "    if (row['time_bed'] > 8) and (row['sleeping'] < 0.5):\n",
    "        return row['favorite_food']\n",
    "    if row['age'] <= 18:\n",
    "        return row['favorite_color']\n",
    "    return row['hate_food']"
   ]
  },
  {
   "cell_type": "code",
   "execution_count": 17,
   "metadata": {},
   "outputs": [
    {
     "name": "stdout",
     "output_type": "stream",
     "text": [
      "986 ms ± 10.1 ms per loop (mean ± std. dev. of 7 runs, 1 loop each)\n"
     ]
    }
   ],
   "source": [
    "%%timeit\n",
    "df = get_data()\n",
    "for index, row in df.iterrows():\n",
    "    df.loc[index, 'reward'] = reward_calculation(row)"
   ]
  },
  {
   "cell_type": "code",
   "execution_count": 18,
   "metadata": {},
   "outputs": [
    {
     "name": "stdout",
     "output_type": "stream",
     "text": [
      "69.2 ms ± 1.96 ms per loop (mean ± std. dev. of 7 runs, 10 loops each)\n"
     ]
    }
   ],
   "source": [
    "%%timeit\n",
    "df = get_data()\n",
    "df['reward'] = df.apply(reward_calculation, axis=1)"
   ]
  },
  {
   "cell_type": "code",
   "execution_count": 22,
   "metadata": {},
   "outputs": [
    {
     "name": "stdout",
     "output_type": "stream",
     "text": [
      "5.63 ms ± 284 μs per loop (mean ± std. dev. of 7 runs, 100 loops each)\n"
     ]
    }
   ],
   "source": [
    "%%timeit\n",
    "\n",
    "df = get_data()\n",
    "df['reward'] = df['hate_food']\n",
    "df.loc[(df['age'] >= 90) | ((df['time_bed'] > 8) & (df['sleeping'] < 0.5)), 'reward'] = df['favorite_food']"
   ]
  },
  {
   "cell_type": "markdown",
   "metadata": {},
   "source": [
    "## Probando random de numpy"
   ]
  },
  {
   "cell_type": "code",
   "execution_count": 53,
   "metadata": {},
   "outputs": [
    {
     "name": "stdout",
     "output_type": "stream",
     "text": [
      "57.333333333333336\n",
      "57.33\n",
      "0.5753784793463322\n"
     ]
    }
   ],
   "source": [
    "one = np.random.randint(0, 300) / 3\n",
    "two = np.round(one, 2)\n",
    "three = np.random.random()\n",
    "print(one)\n",
    "print(two)\n",
    "print(three)\n"
   ]
  }
 ],
 "metadata": {
  "kernelspec": {
   "display_name": ".venv",
   "language": "python",
   "name": "python3"
  },
  "language_info": {
   "codemirror_mode": {
    "name": "ipython",
    "version": 3
   },
   "file_extension": ".py",
   "mimetype": "text/x-python",
   "name": "python",
   "nbconvert_exporter": "python",
   "pygments_lexer": "ipython3",
   "version": "3.12.2"
  }
 },
 "nbformat": 4,
 "nbformat_minor": 2
}
